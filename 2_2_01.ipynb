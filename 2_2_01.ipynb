{
  "nbformat": 4,
  "nbformat_minor": 0,
  "metadata": {
    "colab": {
      "name": "2.2-01.ipynb",
      "provenance": [],
      "collapsed_sections": [],
      "authorship_tag": "ABX9TyM9h1iPiMxqHfGWMSG2+3Kc",
      "include_colab_link": true
    },
    "kernelspec": {
      "name": "python3",
      "display_name": "Python 3"
    }
  },
  "cells": [
    {
      "cell_type": "markdown",
      "metadata": {
        "id": "view-in-github",
        "colab_type": "text"
      },
      "source": [
        "<a href=\"https://colab.research.google.com/github/kreier/physics/blob/master/2_2_01.ipynb\" target=\"_parent\"><img src=\"https://colab.research.google.com/assets/colab-badge.svg\" alt=\"Open In Colab\"/></a>"
      ]
    },
    {
      "cell_type": "markdown",
      "metadata": {
        "id": "OZ-i2WOfJeGm",
        "colab_type": "text"
      },
      "source": [
        "### Question 1\n",
        "\n",
        "What is the weight (in Newtons) of a $75 kg$ person? Draw a free body diagram of that person standing on the ground. Be sure to include labels on all of the forces you have included.\n",
        "\n",
        "__Given__\n",
        "- $m = 75kg~~~~~~~~~~~~$ mass of the person, explicit\n",
        "- $g = -9.81ms^{-2}~~~$ gravitational acceleration, formula booklet p.2\n",
        "\n",
        "__Formula__\n",
        "- $F = ma$\n",
        "- $a = g~~~~~$ acceleration of person is gravitational acceleration \n",
        "\n",
        "__Solution__\n",
        "- $W = ma = mg = 740 N$\n",
        "\n",
        "__Answer:__ The weight of the person is $740 N$."
      ]
    },
    {
      "cell_type": "code",
      "metadata": {
        "id": "_Y90k8YkJaEV",
        "colab_type": "code",
        "outputId": "c07fa35d-0927-4bc0-e013-856ab20d3d24",
        "colab": {
          "base_uri": "https://localhost:8080/",
          "height": 34
        }
      },
      "source": [
        "m = 75     # mass of the person in kilogram\n",
        "g = -9.81  # gravitational acceleration in m/s²\n",
        "a = abs(g) # without direction we only need the absolute value\n",
        "\n",
        "W = m * a\n",
        "\n",
        "print(\"The weight of the person is {:} N.\".format(W))"
      ],
      "execution_count": 0,
      "outputs": [
        {
          "output_type": "stream",
          "text": [
            "The weight of the person is 735.75 N.\n"
          ],
          "name": "stdout"
        }
      ]
    }
  ]
}