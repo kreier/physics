{
  "nbformat": 4,
  "nbformat_minor": 0,
  "metadata": {
    "colab": {
      "name": "00-mk.ipynb",
      "provenance": [],
      "collapsed_sections": []
    },
    "kernelspec": {
      "name": "python3",
      "display_name": "Python 3"
    }
  },
  "cells": [
    {
      "cell_type": "markdown",
      "metadata": {
        "id": "XoJWCJ-Egpq3",
        "colab_type": "text"
      },
      "source": [
        "# Skier problem\n",
        "\n",
        "We solved this problem already in the past, but this is our group solution to get familiar with Jupyter notebook in colaboratory.\n",
        "\n",
        "This text here is written in $markdown$. We can _highlight_ text or make it **bold**.\n",
        "\n",
        "To create a list is easy as well:\n",
        "- first bullet point.\n",
        "- second point.\n",
        "\n",
        "Of course the list can be numbered:\n",
        "1. First point\n",
        "3. Third point \n"
      ]
    },
    {
      "cell_type": "markdown",
      "metadata": {
        "id": "YW9rc22Viv5Y",
        "colab_type": "text"
      },
      "source": [
        "To write math we have to encapsule the formula with dollar signs like $F = ma$ for inline text. The language used here is called $\\LaTeX$. It is named after Leslie Lamport, who extended $\\TeX$ in the early 80th of the last century. If we quote the formula booklet we can center this important formula:\n",
        "\n",
        "$$E_K = \\frac{1}{2}mv^2$$\n",
        "\n",
        "But that's just the beginning. Since we use the internet, we can include a picture as well. Let's look for the skier problem."
      ]
    },
    {
      "cell_type": "markdown",
      "metadata": {
        "id": "R5Ye8-iakzMz",
        "colab_type": "text"
      },
      "source": [
        "## How to insert a picture\n",
        "\n",
        "- Copy the picture to the image folder.\n",
        "- Get a sharable link.\n",
        "- Insert this link. It looks like this:\n",
        "- https://drive.google.com/open?id=1RECtH1bXYIpZEXwylZl4F_EAT2apx6rr\n",
        "- But the image is not shown.\n",
        "\n",
        "Images in markdown are writen like\n",
        "\n",
        "![description](link to image)\n",
        "\n",
        "![skier problem](https://drive.google.com/open?id=1RECtH1bXYIpZEXwylZl4F_EAT2apx6rr)\n",
        "\n",
        "After inserting the google link, replace the google.com/__open__?id= with google.com/__uc__?id=\n",
        "\n",
        "![skier problem](https://drive.google.com/uc?id=1RECtH1bXYIpZEXwylZl4F_EAT2apx6rr)\n",
        "\n",
        "It works! But only for me. How can it work for everybody? Change sharing settings to be available for everyone on the internet. Make sure that you click the \"Allow external access\" button.\n",
        "\n",
        "![sharing](https://drive.google.com/uc?id=1XFLHktHkyfxUHhj2LgjKn0m7F3yEHjV4)"
      ]
    },
    {
      "cell_type": "markdown",
      "metadata": {
        "id": "pDxbxlXtmfnJ",
        "colab_type": "text"
      },
      "source": [
        "## The problem\n",
        "\n",
        "Now let's go for the problem: \n",
        "![skier problem](https://drive.google.com/uc?id=1RECtH1bXYIpZEXwylZl4F_EAT2apx6rr)\n",
        "\n",
        "In the text the following values are given:\n",
        "\n",
        "#### Given\n",
        "\n",
        "- $d = 200m$ explicit distance to travel\n",
        "- $\\theta = 10.5^{\\circ}$ explicit inclination of hill\n",
        "- $\\mu_d = 0.075$ explicit coefficient of dynamic friction\n",
        "- $u = 0ms^{-1}$ implicit starting from rest\n",
        "\n",
        "#### Formulas\n",
        "\n",
        "From 2.1 Motion we use the _timeless_ equation and Newton's second law.\n",
        "\n",
        "$$v^2 = u^2 + 2as$$\n",
        "\n",
        "$$F = ma$$\n",
        "\n",
        "$$N = W cos \\theta$$\n",
        "\n",
        "$$W = mg$$\n",
        "\n",
        "$$F_f = \\mu_d N$$\n",
        "\n",
        "The normal force $N$ is labeled $R$ in the formula booklet: \n",
        "$$F_f = \\mu_d R$$\n",
        "\n",
        "And last the applied force from weight on an inclined plane:\n",
        "\n",
        "$$F_{applied} = W sin \\theta$$"
      ]
    },
    {
      "cell_type": "markdown",
      "metadata": {
        "id": "LtwcLF7JrFgS",
        "colab_type": "text"
      },
      "source": [
        "#### Solution\n",
        "\n",
        "First we calculate the acceleration of the skier along the $d = 200m$. He has the mass of $m$ and a weight of $W = mg$ with $g=9.81ms^{-2}$. The friction force is proportional to the normal force $N = W \\cos\\theta$. The net force is the applied force minus the friction force. We calculate and get $F_{net} = 5 N$"
      ]
    },
    {
      "cell_type": "code",
      "metadata": {
        "id": "Otxs1QUVusuv",
        "colab_type": "code",
        "outputId": "f0d1b797-bf16-409b-9a4e-da1edff38a6a",
        "colab": {
          "base_uri": "https://localhost:8080/",
          "height": 35
        }
      },
      "source": [
        "# The hashtag is used to give a comment in this code section.\n",
        "# We write the code in python 3\n",
        "# An example\n",
        "\n",
        "m = 70     # mass of the student\n",
        "g = 9.81   # gravitational acceleration\n",
        "W = m * g\n",
        "print('The weight of the person is ' + str(W) + ' N.')"
      ],
      "execution_count": 0,
      "outputs": [
        {
          "output_type": "stream",
          "text": [
            "The weight of the person is 686.7 N.\n"
          ],
          "name": "stdout"
        }
      ]
    },
    {
      "cell_type": "code",
      "metadata": {
        "id": "9ebOSG-eglDl",
        "colab_type": "code",
        "outputId": "b79c421d-6a30-46f5-a36a-533d4c336f1d",
        "colab": {
          "base_uri": "https://localhost:8080/",
          "height": 139
        }
      },
      "source": [
        "import math\n",
        "# Now let's do the actual calculation\n",
        "u = 0         # initial velocity\n",
        "d = 200       # distance in meter\n",
        "g = 9.81\n",
        "mu = 0.075                  # dynamic friction coefficient\n",
        "theta = (10.5*math.pi/180)  # angle of inclination of plane\n",
        "m = 100                       # arbitrary value, not needed in the end (mass)\n",
        "\n",
        "W = m * g                   # weight\n",
        "N = W * math.cos(theta)     # normal force\n",
        "Ff = mu * N                 # friction force\n",
        "Fa = W * math.sin(theta)    # applied force\n",
        "Fnet = Fa - Ff              # net force\n",
        "a = Fnet / m                # acceleration\n",
        "v = math.sqrt(2*a*d)\n",
        "\n",
        "print(W)\n",
        "print(N)\n",
        "print(Ff)\n",
        "print(Fa)\n",
        "print(Fnet)\n",
        "print(a)\n",
        "print('Final velocity: ' + str(v) + ' m/s')\n"
      ],
      "execution_count": 0,
      "outputs": [
        {
          "output_type": "stream",
          "text": [
            "981.0\n",
            "964.5730643202395\n",
            "72.34297982401796\n",
            "178.77305050779668\n",
            "106.43007068377872\n",
            "1.0643007068377872\n",
            "Final velocity: 20.632990154970628 m/s\n"
          ],
          "name": "stdout"
        }
      ]
    }
  ]
}