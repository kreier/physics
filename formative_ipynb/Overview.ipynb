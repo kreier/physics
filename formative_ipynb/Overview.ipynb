{
  "nbformat": 4,
  "nbformat_minor": 0,
  "metadata": {
    "colab": {
      "name": "Overview.ipynb",
      "provenance": []
    },
    "kernelspec": {
      "name": "python3",
      "display_name": "Python 3"
    }
  },
  "cells": [
    {
      "cell_type": "markdown",
      "metadata": {
        "id": "B0kbPLyU2ene"
      },
      "source": [
        "# Formative questions and answers for IB Physics\r\n",
        "\r\n",
        "## Topic 1: Measurements and uncertainties\r\n",
        "\r\n",
        "## Topic 2: Mechanics\r\n",
        "\r\n",
        "## Topic 3: Thermal Physics\r\n",
        "\r\n",
        "## Topic 4: Waves\r\n",
        "\r\n",
        "## Topic 5: Electricity and magnetism\r\n",
        "\r\n",
        "## Topic 6: Circular motion and gravitation\r\n",
        "\r\n",
        "## Topic 7: Atomar, nuclear and particle physics\r\n",
        "\r\n",
        "## Topic 8: Energy production"
      ]
    },
    {
      "cell_type": "code",
      "metadata": {
        "id": "nZogv7kO2X1D"
      },
      "source": [
        ""
      ],
      "execution_count": null,
      "outputs": []
    }
  ]
}