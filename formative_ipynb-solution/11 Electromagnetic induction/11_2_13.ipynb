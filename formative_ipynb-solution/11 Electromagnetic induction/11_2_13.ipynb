{
  "nbformat": 4,
  "nbformat_minor": 0,
  "metadata": {
    "colab": {
      "name": "11.2-13.ipynb",
      "provenance": [],
      "collapsed_sections": []
    },
    "kernelspec": {
      "name": "python3",
      "display_name": "Python 3"
    }
  },
  "cells": [
    {
      "cell_type": "markdown",
      "metadata": {
        "id": "VSgzfxo5DmJy"
      },
      "source": [
        "### Question 13\n",
        "A transformer having 145 turns in its primary winding has a 60 Hz input voltage of $V_{in} = 75 VAC$. It is desired that $V_{out}$ should be $120 VAC$. How many turns should the secondary winding have?\n",
        "\n",
        "__Given__\n",
        "- $N_p=145~turns~~~~~~~~~~~~~~~~$ The primary number of turns\n",
        "- $\\epsilon_p=75~V~~~~~~~~~~~~~~~~~~~~~~~~~~~~$The primary emf of the transformer\n",
        "- $\\epsilon_s=120V~~~~~~~~~~~~~~~~~~~~~~~~~~$ The secondary emf of the transformer\n",
        "\n",
        "__Formula__\n",
        "- $\\frac{N_p}{N_s}=\\frac{\\epsilon_p}{\\epsilon_s}~~~~~~~~~~~~~~~~~~~~~~~~~~~~~~~$ Topic 11.2\n",
        "\n",
        "__Solution__\n",
        "- We have the primary turns of the transformer, the emfs in and out for the transformer. To calculate the number of secondary turn is just need to subtitute the values and calculate.\n",
        "- $\\frac{N_p}{N_s}=\\frac{\\epsilon_p}{\\epsilon_s}=\\frac{75V}{120V}=\\frac{145turns}{N_s}$\n",
        "- $N_s=\\frac{120V}{75V}\\times145~turns$\n",
        "\n",
        "__Answer__\n",
        "\n",
        "The number of turn should be $62.1~turns$"
      ]
    },
    {
      "cell_type": "code",
      "metadata": {
        "id": "QGEk3L3LDZy2",
        "colab": {
          "base_uri": "https://localhost:8080/",
          "height": 34
        },
        "outputId": "5959fb87-25c1-4d8e-81e7-2d8074ace2fb"
      },
      "source": [
        "N_p = 145             # The primary number of turns\n",
        "epsilon_p = 75\n",
        "epsilon_s = 120\n",
        "\n",
        "N_s = epsilon_s*epsilon_p/N_p\n",
        "print('The number of turn should be {:.1f} turns'.format(N_s))\n",
        " \n",
        "\n",
        "a = 3   # voltage in volt\n",
        "b = 7   # current in ampere\n",
        "R = a / b  # resistance in Ohm\n",
        "print(“The resistance is {:.7f} Ohm.”.format(R))\n",
        "\n"
      ],
      "execution_count": null,
      "outputs": [
        {
          "output_type": "stream",
          "text": [
            "The number of turn should be 62.1 turns\n"
          ],
          "name": "stdout"
        }
      ]
    }
  ]
}