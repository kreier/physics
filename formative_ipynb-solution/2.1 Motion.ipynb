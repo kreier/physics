{
  "nbformat": 4,
  "nbformat_minor": 0,
  "metadata": {
    "colab": {
      "name": "2.1_example.ipynb",
      "provenance": []
    },
    "kernelspec": {
      "name": "python3",
      "display_name": "Python 3"
    }
  },
  "cells": [
    {
      "cell_type": "markdown",
      "metadata": {
        "id": "7h1ABDJuNy5i",
        "colab_type": "text"
      },
      "source": [
        "# Topic 2.1 - Motion\n",
        "\n",
        "__Formula booklet:__ four SUVAT equations\n",
        "\n",
        "*velocity* $$\n",
        "v = u + at $$\n",
        "\n",
        "*displacement* $$\n",
        "s = ut + \\frac{1}{2}at^2$$\n",
        "\n",
        "*timeless* $$\n",
        "v^2  = u^2 + 2as$$\n",
        "\n",
        "*average displacement* $$\n",
        "s = \\frac{(v + u)t}{2} $$"
      ]
    },
    {
      "cell_type": "markdown",
      "metadata": {
        "id": "iTFahyFxQdCE",
        "colab_type": "text"
      },
      "source": [
        "## Question 1\n",
        "\n",
        "A fly travels along the x-axis. His starting point is $x = -8.0 m$ and his ending point is $x =  -16 m$. His flight lasts $2.0$ seconds. What is his velocity?\t\n",
        "\n",
        "__Given__\n",
        "- $x_i = -8.0 m$\n",
        "- $x_f = -16 m$\n",
        "- $t = 2 s$\n",
        "\n",
        "__Formula__\n",
        "- $\\Delta x = x_f - x_i$\n",
        "- $v = \\frac{\\Delta x}{t}$\n",
        "\n",
        "__Solution__\n",
        "- $\\Delta x = x_f - x_i = -16 - (-8) = -8m$\n",
        "- $v = \\frac{\\Delta x}{t} = \\frac{-8}{2} = -4 \\frac{m}{s}$\n",
        "\n",
        "__Answer:__ The velocity of the fly is $-4 \\frac{m}{s}$."
      ]
    },
    {
      "cell_type": "code",
      "metadata": {
        "id": "DAoNTDtwP2UT",
        "colab_type": "code",
        "colab": {
          "base_uri": "https://localhost:8080/",
          "height": 34
        },
        "outputId": "c35568ff-f1f2-4963-ed99-122633a1b1bf"
      },
      "source": [
        "x_i = -8.0     # initial point in m\n",
        "x_f = -16      # final point in m\n",
        "t   =  2       # time to travel the distance in s\n",
        "\n",
        "x =  x_f - x_i # displacement in m\n",
        "v = x / t      # velocity\n",
        "print('The velocity of the fly is', v, 'm/s.')"
      ],
      "execution_count": 3,
      "outputs": [
        {
          "output_type": "stream",
          "text": [
            "The velocity of the fly is -4.0 m/s.\n"
          ],
          "name": "stdout"
        }
      ]
    },
    {
      "cell_type": "markdown",
      "metadata": {
        "id": "xC_uHHcdTRDd",
        "colab_type": "text"
      },
      "source": [
        "## Question 2\n",
        "\n",
        "A car traveling at $48 ms^{-1}$ is brought to a stop in $3.0$ seconds. What is its acceleration?\n",
        "\n",
        "__Given__\n",
        "- $u = 48 \\frac{m}{s}$\n",
        "- $t = 3 s$\n",
        "- $v = 0$\n",
        "\n",
        "__Formula__ velocity\n",
        "- $v = u + at$\n",
        "\n",
        "__Solution__\n",
        "- Since $v = 0$ the formula rearranges:\n",
        "- $-u = at$ or $a = -\\frac{u}{t} = -\\frac{48}{3} = -16\\frac{m}{s^2}$\n",
        "\n",
        "__Answer:__ The acceleration of the car is $-16\\frac{m}{s^2}$."
      ]
    },
    {
      "cell_type": "code",
      "metadata": {
        "id": "uOHhw4NONv0H",
        "colab_type": "code",
        "colab": {
          "base_uri": "https://localhost:8080/",
          "height": 34
        },
        "outputId": "bf0eb66f-ed31-404a-97b8-f72b9bcae63c"
      },
      "source": [
        "v = 0       # final velocity - implicit - stop or zero\n",
        "u = 48      # initial velocity\n",
        "t = 3       # time to stop\n",
        "\n",
        "a = -u / t  # acceleration is change in velocity over time\n",
        "print('The acceleration of the car is',a,'m/s²')"
      ],
      "execution_count": 4,
      "outputs": [
        {
          "output_type": "stream",
          "text": [
            "The acceleration of the car is -16.0 m/s²\n"
          ],
          "name": "stdout"
        }
      ]
    }
  ]
}